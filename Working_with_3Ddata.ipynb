{
 "cells": [
  {
   "cell_type": "markdown",
   "id": "ef286179-2a4c-4787-9ef9-6d177ae21f1c",
   "metadata": {},
   "source": [
    "# Working with 3D data"
   ]
  },
  {
   "cell_type": "markdown",
   "id": "423a617d-ba75-401a-9464-09c625e4d851",
   "metadata": {},
   "source": [
    "Imagine you have 3d data-sets, e.g."
   ]
  },
  {
   "cell_type": "code",
   "execution_count": 6,
   "id": "c08d8242-403c-4ee7-a101-479642a63a8b",
   "metadata": {},
   "outputs": [
    {
     "name": "stdout",
     "output_type": "stream",
     "text": [
      "[[-0.96675054  0.84677435 -0.00683761]\n",
      " [ 0.45177519  0.40162324 -0.85813154]\n",
      " [ 3.17879677 -0.58454589  0.43701946]\n",
      " [ 0.88249877  0.98248283 -0.70609389]]\n",
      "[[1. 0. 0.]\n",
      " [0. 1. 0.]\n",
      " [0. 0. 1.]\n",
      " [1. 0. 0.]]\n"
     ]
    },
    {
     "data": {
      "text/plain": [
       "array([[1., 0., 0.],\n",
       "       [0., 1., 0.],\n",
       "       [0., 0., 1.],\n",
       "       [1., 0., 0.]])"
      ]
     },
     "execution_count": 6,
     "metadata": {},
     "output_type": "execute_result"
    }
   ],
   "source": [
    "import numpy as np\n",
    "\n",
    "data = np.random.randn(4,3)\n",
    "data_2 = np.eye(3)\n",
    "data_2 = np.vstack((data_2, [1, 1, 0]))\n",
    "\n",
    "print(data)\n",
    "print(data_2)"
   ]
  },
  {
   "cell_type": "markdown",
   "id": "4ca2b1ae-96b2-48d1-a070-5c198b345c5a",
   "metadata": {},
   "source": [
    "## Voluntary Exercise\n",
    "If you can perform the following tasks, the next exercise will be easy for you:\n",
    "\n",
    "* Try to find an efficient way to translate these data by [0, 10, 100]\n",
    "* Try to create a 1-D column vector with the values [0, 10, 100, 1000], and add it to these data\n",
    "* How can you rotate these data by 10 deg around the y-axis? And what does that mean, e.g. for the vectors [1, 0, 0], and [1, 1, 0]?\n",
    "* Using one line of code, and scikit-kinematics, can you project the vector [5, 2, 4] into the plane perpendicular to [1, 0, 1]? Can you also draw a diagram for that taks?\n",
    "\n",
    "### Hints\n",
    "\n",
    "* Check out https://numpy.org/doc/stable/user/basics.broadcasting.html\n",
    "* A vector $\\vec{x} = \\begin{pmatrix}\n",
    "1\\\\\n",
    "2\\\\\n",
    "3\\\\\n",
    "\\end{pmatrix}$ can be rotated by $\\vec{x}' = \\mathbb{R} * \\vec{x}$"
   ]
  },
  {
   "cell_type": "code",
   "execution_count": 11,
   "id": "6615c887-8152-46ae-8fe5-9e987b91dab8",
   "metadata": {},
   "outputs": [
    {
     "name": "stdout",
     "output_type": "stream",
     "text": [
      "[[ 1.          0.          0.        ]\n",
      " [ 0.          0.98480775 -0.17364818]\n",
      " [ 0.          0.17364818  0.98480775]]\n"
     ]
    }
   ],
   "source": [
    "import skinematics as skin\n",
    "Rx = skin.rotmat.R('x', 10)\n",
    "print(Rx)"
   ]
  },
  {
   "cell_type": "code",
   "execution_count": null,
   "id": "54322c7d-1b50-4b0d-b7f5-3a578e1c857a",
   "metadata": {},
   "outputs": [],
   "source": []
  }
 ],
 "metadata": {
  "kernelspec": {
   "display_name": "Python 3",
   "language": "python",
   "name": "python3"
  },
  "language_info": {
   "codemirror_mode": {
    "name": "ipython",
    "version": 3
   },
   "file_extension": ".py",
   "mimetype": "text/x-python",
   "name": "python",
   "nbconvert_exporter": "python",
   "pygments_lexer": "ipython3",
   "version": "3.8.9"
  }
 },
 "nbformat": 4,
 "nbformat_minor": 5
}
