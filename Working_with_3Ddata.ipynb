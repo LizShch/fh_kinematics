{
 "cells": [
  {
   "cell_type": "markdown",
   "id": "ef286179-2a4c-4787-9ef9-6d177ae21f1c",
   "metadata": {},
   "source": [
    "# Working with 3D data"
   ]
  },
  {
   "cell_type": "markdown",
   "id": "423a617d-ba75-401a-9464-09c625e4d851",
   "metadata": {},
   "source": [
    "Imagine you have 3d data-sets, e.g."
   ]
  },
  {
   "cell_type": "code",
<<<<<<< HEAD
   "execution_count": 10,
=======
   "execution_count": 6,
>>>>>>> dcf5bc2e80402217c21c5c530b96912744c69ccd
   "id": "c08d8242-403c-4ee7-a101-479642a63a8b",
   "metadata": {},
   "outputs": [
    {
     "name": "stdout",
     "output_type": "stream",
     "text": [
<<<<<<< HEAD
      "[[ 0.70879871 -0.54715493 -0.29880026]\n",
      " [ 1.2196961  -0.41340691  0.18032219]\n",
      " [ 0.50645053  2.03405326  2.40170143]\n",
      " [ 0.13783784 -0.27687955  0.16718616]]\n",
      "[[1. 0. 0.]\n",
      " [0. 1. 0.]\n",
      " [0. 0. 1.]\n",
      " [1. 1. 0.]]\n"
     ]
=======
      "[[-0.96675054  0.84677435 -0.00683761]\n",
      " [ 0.45177519  0.40162324 -0.85813154]\n",
      " [ 3.17879677 -0.58454589  0.43701946]\n",
      " [ 0.88249877  0.98248283 -0.70609389]]\n",
      "[[1. 0. 0.]\n",
      " [0. 1. 0.]\n",
      " [0. 0. 1.]\n",
      " [1. 0. 0.]]\n"
     ]
    },
    {
     "data": {
      "text/plain": [
       "array([[1., 0., 0.],\n",
       "       [0., 1., 0.],\n",
       "       [0., 0., 1.],\n",
       "       [1., 0., 0.]])"
      ]
     },
     "execution_count": 6,
     "metadata": {},
     "output_type": "execute_result"
>>>>>>> dcf5bc2e80402217c21c5c530b96912744c69ccd
    }
   ],
   "source": [
    "import numpy as np\n",
    "\n",
    "data = np.random.randn(4,3)\n",
    "data_2 = np.eye(3)\n",
    "data_2 = np.vstack((data_2, [1, 1, 0]))\n",
    "\n",
    "print(data)\n",
    "print(data_2)"
   ]
  },
  {
   "cell_type": "markdown",
   "id": "4ca2b1ae-96b2-48d1-a070-5c198b345c5a",
   "metadata": {},
   "source": [
    "## Voluntary Exercise\n",
    "If you can perform the following tasks, the next exercise will be easy for you:\n",
    "\n",
    "* Try to find an efficient way to translate these data by [0, 10, 100]\n",
    "* Try to create a 1-D column vector with the values [0, 10, 100, 1000], and add it to these data\n",
    "* How can you rotate these data by 10 deg around the y-axis? And what does that mean, e.g. for the vectors [1, 0, 0], and [1, 1, 0]?\n",
    "* Using one line of code, and scikit-kinematics, can you project the vector [5, 2, 4] into the plane perpendicular to [1, 0, 1]? Can you also draw a diagram for that taks?\n",
    "\n",
    "### Hints\n",
    "\n",
    "* Check out https://numpy.org/doc/stable/user/basics.broadcasting.html\n",
    "* A vector $\\vec{x} = \\begin{pmatrix}\n",
    "1\\\\\n",
    "2\\\\\n",
    "3\\\\\n",
    "\\end{pmatrix}$ can be rotated by $\\vec{x}' = \\mathbb{R} * \\vec{x}$"
   ]
  },
  {
   "cell_type": "code",
   "execution_count": 11,
   "id": "6615c887-8152-46ae-8fe5-9e987b91dab8",
   "metadata": {},
   "outputs": [
    {
     "name": "stdout",
     "output_type": "stream",
     "text": [
      "[[ 1.          0.          0.        ]\n",
      " [ 0.          0.98480775 -0.17364818]\n",
      " [ 0.          0.17364818  0.98480775]]\n"
     ]
    }
   ],
   "source": [
    "import skinematics as skin\n",
    "Rx = skin.rotmat.R('x', 10)\n",
    "print(Rx)"
   ]
  },
  {
<<<<<<< HEAD
   "cell_type": "markdown",
   "id": "40e9bac5",
   "metadata": {},
   "source": [
    "-------------------------------"
   ]
  },
  {
   "cell_type": "markdown",
   "id": "b1e05b0f",
   "metadata": {},
   "source": [
    "### Solutions"
   ]
  },
  {
   "cell_type": "markdown",
   "id": "7db789ba",
   "metadata": {},
   "source": [
    "* Try to create a 1-D column vector with the values [0, 10, 100, 1000], and add it to these data"
   ]
  },
  {
   "cell_type": "code",
   "execution_count": 12,
   "id": "557807c4",
   "metadata": {},
   "outputs": [
    {
     "name": "stdout",
     "output_type": "stream",
     "text": [
      "Dataset 1: \n",
      " [[ 7.08798715e-01 -5.47154931e-01 -2.98800255e-01  0.00000000e+00]\n",
      " [ 1.21969610e+00 -4.13406914e-01  1.80322189e-01  1.00000000e+01]\n",
      " [ 5.06450534e-01  2.03405326e+00  2.40170143e+00  1.00000000e+02]\n",
      " [ 1.37837845e-01 -2.76879549e-01  1.67186157e-01  1.00000000e+03]] \n",
      " Dataset 2: \n",
      " [[   1.    0.    0.    0.]\n",
      " [   0.    1.    0.   10.]\n",
      " [   0.    0.    1.  100.]\n",
      " [   1.    1.    0. 1000.]]\n"
     ]
    }
   ],
   "source": [
    "data_3 = np.array([[0, 10, 100, 1000]]).T\n",
    "\n",
    "data = np.hstack((data, data_3))\n",
    "data_2 = np.hstack((data_2, data_3))\n",
    "\n",
    "print(\"Dataset 1: \\n\", data, \"\\n Dataset 2: \\n\", data_2)"
   ]
  },
  {
   "cell_type": "markdown",
   "id": "c2ba6c03",
   "metadata": {},
   "source": [
    "* **Try to find an efficient way to translate these data by [0, 10, 100].**\n",
    "\n",
    "The translation matrix should look like the following:\n",
    "![Translation matrix](https://i.stack.imgur.com/Vb23q.png)\n",
    "\n",
    "Where [dx, dy, dz] are going to be the values [0, 10, 100]."
   ]
  },
  {
   "cell_type": "code",
   "execution_count": 13,
   "id": "797935ec",
   "metadata": {},
   "outputs": [
    {
     "name": "stdout",
     "output_type": "stream",
     "text": [
      "First dataset with the translation:\n",
      " [[ 7.08798715e-01 -0.00000000e+00 -0.00000000e+00  0.00000000e+00]\n",
      " [ 0.00000000e+00 -4.13406914e-01  0.00000000e+00  1.00000000e+02]\n",
      " [ 0.00000000e+00  0.00000000e+00  2.40170143e+00  1.00000000e+04]\n",
      " [ 0.00000000e+00 -0.00000000e+00  0.00000000e+00  1.00000000e+03]] \n",
      " Second dataset with the translation:\n",
      " [[1.e+00 0.e+00 0.e+00 0.e+00]\n",
      " [0.e+00 1.e+00 0.e+00 1.e+02]\n",
      " [0.e+00 0.e+00 1.e+00 1.e+04]\n",
      " [0.e+00 0.e+00 0.e+00 1.e+03]]\n"
     ]
    }
   ],
   "source": [
    "Tmatrix =[[1, 0, 0, 0],\n",
    "          [0, 1, 0, 10],\n",
    "          [0, 0, 1, 100],\n",
    "          [0, 0, 0, 1]]\n",
    "\n",
    "\n",
    "tr_data = Tmatrix * data\n",
    "tr_data_2 = Tmatrix * data_2\n",
    "print(\"First dataset with the translation:\\n\", tr_data,\"\\n Second dataset with the translation:\\n\", tr_data_2)"
   ]
  },
  {
   "cell_type": "markdown",
   "id": "f5085249",
   "metadata": {},
   "source": [
    "* **How can you rotate these data by 10 deg around the y-axis? And what does that mean, e.g. for the vectors [1, 0, 0], and [1, 1, 0]?**\n",
    "\n",
    "To rotate these data, we will use rotation matrices, which are defined in Python with the following function from `skinematics`:\n",
    "\n",
    "rotmat.R(axis='x', angle=90)"
   ]
  },
  {
   "cell_type": "code",
   "execution_count": 14,
   "id": "27baa369",
   "metadata": {},
   "outputs": [
    {
     "name": "stdout",
     "output_type": "stream",
     "text": [
      "Rotation matrix in 10º in y: \n",
      " [[ 0.98480775  0.          0.17364818]\n",
      " [ 0.          1.          0.        ]\n",
      " [-0.17364818  0.          0.98480775]]\n",
      "Vector 1 rot:\n",
      " [[ 0.98480775  0.          0.        ]\n",
      " [ 0.          0.          0.        ]\n",
      " [-0.17364818  0.          0.        ]] \n",
      "Vector 2 rot:\n",
      " [[ 0.98480775  0.          0.        ]\n",
      " [ 0.          1.          0.        ]\n",
      " [-0.17364818  0.          0.        ]]\n"
     ]
    }
   ],
   "source": [
    "Ry = skin.rotmat.R(axis = 'y', angle = 10)\n",
    "print('Rotation matrix in 10º in y: \\n', Ry)\n",
    "\n",
    "vector1 = [1,0,0]\n",
    "vector2 = [1,1,0]\n",
    "\n",
    "vector1_rot = vector1 * Ry\n",
    "vector2_rot = vector2 * Ry\n",
    "\n",
    "print ('Vector 1 rot:\\n', vector1_rot, '\\nVector 2 rot:\\n', vector2_rot)"
   ]
  },
  {
   "cell_type": "markdown",
   "id": "403ef673",
   "metadata": {},
   "source": [
    "* **Using one line of code, and scikit-kinematics, can you project the vector [5, 2, 4] into the plane perpendicular to [1, 0, 1]? Can you also draw a diagram for that taks?**\n",
    "\n",
    "Given a vector ⟨a,b,c⟩ we know that all planes perpendicular to this vector have the form ax+by+cz=d, and any surface of this form is a plane perpendicular to ⟨a,b,c⟩.\n",
    "\n",
    "In our case, we have the vector [1,0,1], which has the perpendicular plane x+z=d. To express the vector [5,2,4] in this plane, we will have to perform the following operation:\n",
    "\n",
    "![Projection of a vector](https://i.imgur.com/Doh4hEh.png)\n",
    "\n",
    "If we look at this geometrically, it would look like the following:\n",
    "\n",
    "![Projection graphical](https://i.imgur.com/fXXKpYO.png)\n"
   ]
  },
  {
   "cell_type": "code",
   "execution_count": 16,
   "id": "98955a20",
   "metadata": {},
   "outputs": [
    {
     "name": "stdout",
     "output_type": "stream",
     "text": [
      "Projection vector: [6.36396103 0.         6.36396103]\n"
     ]
    }
   ],
   "source": [
    "vector_a = np.array([5, 2, 4])\n",
    "vector_b = np.array([1, 0, 1])\n",
    "\n",
    "projection_a = ((np.dot(vector_a, vector_b))/((np.sqrt(vector_b.dot(vector_b))))*vector_b)\n",
    "print(\"Projection vector:\", projection_a)"
   ]
  },
  {
   "cell_type": "code",
   "execution_count": null,
   "id": "3ac63ffa",
=======
   "cell_type": "code",
   "execution_count": null,
   "id": "54322c7d-1b50-4b0d-b7f5-3a578e1c857a",
>>>>>>> dcf5bc2e80402217c21c5c530b96912744c69ccd
   "metadata": {},
   "outputs": [],
   "source": []
  }
 ],
 "metadata": {
  "kernelspec": {
   "display_name": "Python 3",
   "language": "python",
   "name": "python3"
  },
  "language_info": {
   "codemirror_mode": {
    "name": "ipython",
    "version": 3
   },
   "file_extension": ".py",
   "mimetype": "text/x-python",
   "name": "python",
   "nbconvert_exporter": "python",
   "pygments_lexer": "ipython3",
   "version": "3.8.9"
  }
 },
 "nbformat": 4,
 "nbformat_minor": 5
}
